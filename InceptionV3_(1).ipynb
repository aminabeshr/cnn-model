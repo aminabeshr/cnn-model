{
  "cells": [
    {
      "cell_type": "markdown",
      "metadata": {
        "id": "view-in-github",
        "colab_type": "text"
      },
      "source": [
        "<a href=\"https://colab.research.google.com/github/aminabeshr/cnn-model/blob/main/InceptionV3_(1).ipynb\" target=\"_parent\"><img src=\"https://colab.research.google.com/assets/colab-badge.svg\" alt=\"Open In Colab\"/></a>"
      ]
    },
    {
      "cell_type": "code",
      "execution_count": null,
      "metadata": {
        "colab": {
          "base_uri": "https://localhost:8080/"
        },
        "id": "f7b99E9F6v6K",
        "outputId": "48fb965b-94c6-448e-c8c6-f25980e23537"
      },
      "outputs": [
        {
          "output_type": "stream",
          "name": "stdout",
          "text": [
            "Mounted at /content/drive\n"
          ]
        }
      ],
      "source": [
        "from google.colab import drive\n",
        "drive.mount('/content/drive')"
      ]
    },
    {
      "cell_type": "code",
      "execution_count": null,
      "metadata": {
        "id": "fwH6YtlK9CRR"
      },
      "outputs": [],
      "source": [
        "train_dir = '/content/drive/MyDrive/nail m/train'\n",
        "test_dir = '/content/drive/MyDrive/nail m/test'\n",
        "validation_dir = '/content/drive/MyDrive/nail m/validation'"
      ]
    },
    {
      "cell_type": "code",
      "execution_count": null,
      "metadata": {
        "colab": {
          "base_uri": "https://localhost:8080/"
        },
        "id": "TvDus8zF-guF",
        "outputId": "2f515720-2e9f-4d30-ad4d-300f7f196c16"
      },
      "outputs": [
        {
          "output_type": "stream",
          "name": "stdout",
          "text": [
            "عدد الصور في Acral_Lentiginous_Melanoma: 767\n",
            "عدد الصور في blue_finger: 767\n",
            "عدد الصور في clubbing: 767\n",
            "عدد الصور في Onychogryphosis: 767\n",
            "عدد الصور في pitting: 767\n",
            "عدد الصور في Healthy_Nail: 767\n",
            "عدد الصور في psoriasis: 767\n",
            "عدد الصور في onychomycosis: 767\n"
          ]
        }
      ],
      "source": [
        "import os\n",
        "\n",
        "# قائمة الأمراض\n",
        "diseases = ['Acral_Lentiginous_Melanoma', 'blue_finger', 'clubbing',\n",
        "            'Onychogryphosis', 'pitting', 'Healthy_Nail', 'psoriasis', 'onychomycosis']\n",
        "\n",
        "# مسار مجلد التدريب\n",
        "train_dir = '/content/drive/MyDrive/nail m/train'\n",
        "\n",
        "# حساب عدد الصور في كل فئة\n",
        "for disease in diseases:\n",
        "    disease_path = os.path.join(train_dir, disease)\n",
        "    if os.path.exists(disease_path):  # التأكد من وجود المجلد\n",
        "        num_images = len(os.listdir(disease_path))\n",
        "        print(f\"عدد الصور في {disease}: {num_images}\")\n",
        "    else:\n",
        "        print(f\"المجلد غير موجود: {disease_path}\")"
      ]
    },
    {
      "cell_type": "code",
      "execution_count": null,
      "metadata": {
        "id": "7-5WcUFuJh42"
      },
      "outputs": [],
      "source": [
        "import os\n",
        "import cv2\n",
        "import numpy as np\n",
        "import tensorflow as tf\n",
        "from tensorflow.keras.preprocessing.image import ImageDataGenerator\n",
        "from tensorflow.keras.applications import InceptionV3\n",
        "from tensorflow.keras.applications.inception_v3 import preprocess_input\n",
        "from tensorflow.keras import layers, models\n",
        "from tensorflow.keras.optimizers import Adam\n",
        "\n"
      ]
    },
    {
      "cell_type": "code",
      "execution_count": null,
      "metadata": {
        "colab": {
          "base_uri": "https://localhost:8080/"
        },
        "id": "pRKo8W0eSNHz",
        "outputId": "2eab9987-1c08-4171-cfea-69ca7908295b"
      },
      "outputs": [
        {
          "output_type": "stream",
          "name": "stdout",
          "text": [
            "['pitting', 'psoriasis', 'onychomycosis', 'Onychogryphosis', 'Healthy_Nail', 'clubbing', 'Acral_Lentiginous_Melanoma', 'blue_finger']\n"
          ]
        }
      ],
      "source": [
        "import os\n",
        "print(os.listdir('/content/drive/MyDrive/nail m/train'))\n"
      ]
    },
    {
      "cell_type": "code",
      "execution_count": null,
      "metadata": {
        "id": "7KfHB8pOaPXB"
      },
      "outputs": [],
      "source": [
        "train_datagen = ImageDataGenerator(\n",
        "    preprocessing_function=preprocess_input,\n",
        "    rotation_range=30,\n",
        "    width_shift_range=0.2,\n",
        "    height_shift_range=0.2,\n",
        "    shear_range=0.2,\n",
        "    zoom_range=0.2,\n",
        "    horizontal_flip=True,\n",
        "    fill_mode='nearest'\n",
        ")"
      ]
    },
    {
      "cell_type": "code",
      "execution_count": null,
      "metadata": {
        "colab": {
          "base_uri": "https://localhost:8080/"
        },
        "id": "e1IXmGy3cCe2",
        "outputId": "c267d830-f2ec-42a4-c62f-b4056f4ac8b6"
      },
      "outputs": [
        {
          "output_type": "stream",
          "name": "stdout",
          "text": [
            "Found 6135 images belonging to 8 classes.\n",
            "Found 346 images belonging to 8 classes.\n",
            "Found 887 images belonging to 8 classes.\n"
          ]
        }
      ],
      "source": [
        "validation_datagen = ImageDataGenerator(preprocessing_function=preprocess_input)\n",
        "test_datagen = ImageDataGenerator(preprocessing_function=preprocess_input)\n",
        "\n",
        "train_generator = train_datagen.flow_from_directory(\n",
        "    train_dir,\n",
        "    target_size=(299, 299),\n",
        "    batch_size=32,\n",
        "    class_mode='categorical'\n",
        ")\n",
        "\n",
        "validation_generator = validation_datagen.flow_from_directory(\n",
        "    validation_dir,\n",
        "    target_size=(299, 299),\n",
        "    batch_size=32,\n",
        "    class_mode='categorical'\n",
        ")\n",
        "\n",
        "test_generator = test_datagen.flow_from_directory(\n",
        "    test_dir,\n",
        "    target_size=(299, 299),\n",
        "    batch_size=32,\n",
        "    class_mode='categorical',\n",
        "    shuffle=False\n",
        ")\n"
      ]
    },
    {
      "cell_type": "code",
      "execution_count": null,
      "metadata": {
        "colab": {
          "base_uri": "https://localhost:8080/"
        },
        "id": "KR4b5jmxO4Yc",
        "outputId": "34fad13e-2eec-4681-fd20-86fd7ee3d8ab"
      },
      "outputs": [
        {
          "output_type": "stream",
          "name": "stdout",
          "text": [
            "Downloading data from https://storage.googleapis.com/tensorflow/keras-applications/inception_v3/inception_v3_weights_tf_dim_ordering_tf_kernels_notop.h5\n",
            "\u001b[1m87910968/87910968\u001b[0m \u001b[32m━━━━━━━━━━━━━━━━━━━━\u001b[0m\u001b[37m\u001b[0m \u001b[1m1s\u001b[0m 0us/step\n"
          ]
        }
      ],
      "source": [
        "base_model = InceptionV3(weights='imagenet', include_top=False, input_shape=(299, 299, 3))\n",
        "\n",
        "x = base_model.output\n",
        "x = layers.GlobalAveragePooling2D()(x)\n",
        "x = layers.Dense(1024, activation='relu')(x)\n",
        "x = layers.Dropout(0.5)(x)\n",
        "predictions = layers.Dense(train_generator.num_classes, activation='softmax')(x)\n",
        "\n",
        "model = models.Model(inputs=base_model.input, outputs=predictions)\n"
      ]
    },
    {
      "cell_type": "code",
      "execution_count": null,
      "metadata": {
        "id": "UAs-SAZvS07R"
      },
      "outputs": [],
      "source": [
        "for layer in base_model.layers:\n",
        "    layer.trainable = False\n",
        "\n",
        "model.compile(optimizer=Adam(learning_rate=0.001),\n",
        "              loss='categorical_crossentropy',\n",
        "              metrics=['accuracy'])\n",
        "\n"
      ]
    },
    {
      "cell_type": "code",
      "execution_count": null,
      "metadata": {
        "colab": {
          "base_uri": "https://localhost:8080/"
        },
        "id": "Z9wZel8gUbeN",
        "outputId": "ab3eddb2-044f-481d-acda-b0bbfcf71327"
      },
      "outputs": [
        {
          "metadata": {
            "tags": null
          },
          "name": "stdout",
          "output_type": "stream",
          "text": [
            "Epoch 1/25\n"
          ]
        },
        {
          "metadata": {
            "tags": null
          },
          "name": "stderr",
          "output_type": "stream",
          "text": [
            "/usr/local/lib/python3.10/dist-packages/keras/src/trainers/data_adapters/py_dataset_adapter.py:122: UserWarning: Your `PyDataset` class should call `super().__init__(**kwargs)` in its constructor. `**kwargs` can include `workers`, `use_multiprocessing`, `max_queue_size`. Do not pass these arguments to `fit()`, as they will be ignored.\n",
            "  self._warn_if_super_not_called()\n"
          ]
        },
        {
          "output_type": "stream",
          "name": "stdout",
          "text": [
            "\u001b[1m192/192\u001b[0m \u001b[32m━━━━━━━━━━━━━━━━━━━━\u001b[0m\u001b[37m\u001b[0m \u001b[1m2709s\u001b[0m 14s/step - accuracy: 0.4973 - loss: 1.5493 - val_accuracy: 0.7486 - val_loss: 0.5440\n",
            "Epoch 2/25\n",
            "\u001b[1m192/192\u001b[0m \u001b[32m━━━━━━━━━━━━━━━━━━━━\u001b[0m\u001b[37m\u001b[0m \u001b[1m1666s\u001b[0m 9s/step - accuracy: 0.7012 - loss: 0.7698 - val_accuracy: 0.8757 - val_loss: 0.3903\n",
            "Epoch 3/25\n",
            "\u001b[1m192/192\u001b[0m \u001b[32m━━━━━━━━━━━━━━━━━━━━\u001b[0m\u001b[37m\u001b[0m \u001b[1m1639s\u001b[0m 8s/step - accuracy: 0.7335 - loss: 0.6963 - val_accuracy: 0.8555 - val_loss: 0.3776\n",
            "Epoch 4/25\n",
            "\u001b[1m192/192\u001b[0m \u001b[32m━━━━━━━━━━━━━━━━━━━━\u001b[0m\u001b[37m\u001b[0m \u001b[1m1627s\u001b[0m 8s/step - accuracy: 0.7494 - loss: 0.6714 - val_accuracy: 0.8786 - val_loss: 0.3608\n",
            "Epoch 5/25\n",
            "\u001b[1m192/192\u001b[0m \u001b[32m━━━━━━━━━━━━━━━━━━━━\u001b[0m\u001b[37m\u001b[0m \u001b[1m1643s\u001b[0m 8s/step - accuracy: 0.7695 - loss: 0.5996 - val_accuracy: 0.8757 - val_loss: 0.3553\n",
            "Epoch 6/25\n",
            "\u001b[1m192/192\u001b[0m \u001b[32m━━━━━━━━━━━━━━━━━━━━\u001b[0m\u001b[37m\u001b[0m \u001b[1m1636s\u001b[0m 8s/step - accuracy: 0.7666 - loss: 0.5986 - val_accuracy: 0.8526 - val_loss: 0.3484\n",
            "Epoch 7/25\n",
            "\u001b[1m192/192\u001b[0m \u001b[32m━━━━━━━━━━━━━━━━━━━━\u001b[0m\u001b[37m\u001b[0m \u001b[1m1640s\u001b[0m 8s/step - accuracy: 0.7802 - loss: 0.5806 - val_accuracy: 0.8902 - val_loss: 0.2945\n",
            "Epoch 8/25\n",
            "\u001b[1m192/192\u001b[0m \u001b[32m━━━━━━━━━━━━━━━━━━━━\u001b[0m\u001b[37m\u001b[0m \u001b[1m1629s\u001b[0m 8s/step - accuracy: 0.7741 - loss: 0.5899 - val_accuracy: 0.8757 - val_loss: 0.3613\n",
            "Epoch 9/25\n",
            "\u001b[1m192/192\u001b[0m \u001b[32m━━━━━━━━━━━━━━━━━━━━\u001b[0m\u001b[37m\u001b[0m \u001b[1m1642s\u001b[0m 8s/step - accuracy: 0.7824 - loss: 0.5624 - val_accuracy: 0.8757 - val_loss: 0.3494\n",
            "Epoch 10/25\n",
            "\u001b[1m192/192\u001b[0m \u001b[32m━━━━━━━━━━━━━━━━━━━━\u001b[0m\u001b[37m\u001b[0m \u001b[1m1637s\u001b[0m 8s/step - accuracy: 0.7858 - loss: 0.5526 - val_accuracy: 0.8671 - val_loss: 0.3384\n",
            "Epoch 11/25\n",
            "\u001b[1m192/192\u001b[0m \u001b[32m━━━━━━━━━━━━━━━━━━━━\u001b[0m\u001b[37m\u001b[0m \u001b[1m1688s\u001b[0m 9s/step - accuracy: 0.8103 - loss: 0.5200 - val_accuracy: 0.8902 - val_loss: 0.2843\n",
            "Epoch 12/25\n",
            "\u001b[1m192/192\u001b[0m \u001b[32m━━━━━━━━━━━━━━━━━━━━\u001b[0m\u001b[37m\u001b[0m \u001b[1m1627s\u001b[0m 8s/step - accuracy: 0.8093 - loss: 0.5224 - val_accuracy: 0.9162 - val_loss: 0.2680\n",
            "Epoch 13/25\n",
            "\u001b[1m192/192\u001b[0m \u001b[32m━━━━━━━━━━━━━━━━━━━━\u001b[0m\u001b[37m\u001b[0m \u001b[1m1634s\u001b[0m 8s/step - accuracy: 0.7911 - loss: 0.5214 - val_accuracy: 0.9104 - val_loss: 0.2485\n",
            "Epoch 14/25\n",
            "\u001b[1m192/192\u001b[0m \u001b[32m━━━━━━━━━━━━━━━━━━━━\u001b[0m\u001b[37m\u001b[0m \u001b[1m1629s\u001b[0m 8s/step - accuracy: 0.8117 - loss: 0.5101 - val_accuracy: 0.8873 - val_loss: 0.3040\n",
            "Epoch 15/25\n",
            "\u001b[1m192/192\u001b[0m \u001b[32m━━━━━━━━━━━━━━━━━━━━\u001b[0m\u001b[37m\u001b[0m \u001b[1m1631s\u001b[0m 8s/step - accuracy: 0.7987 - loss: 0.5167 - val_accuracy: 0.8873 - val_loss: 0.2801\n",
            "Epoch 16/25\n",
            "\u001b[1m192/192\u001b[0m \u001b[32m━━━━━━━━━━━━━━━━━━━━\u001b[0m\u001b[37m\u001b[0m \u001b[1m1636s\u001b[0m 8s/step - accuracy: 0.8119 - loss: 0.4946 - val_accuracy: 0.9306 - val_loss: 0.2365\n",
            "Epoch 17/25\n",
            "\u001b[1m192/192\u001b[0m \u001b[32m━━━━━━━━━━━━━━━━━━━━\u001b[0m\u001b[37m\u001b[0m \u001b[1m1634s\u001b[0m 8s/step - accuracy: 0.8123 - loss: 0.4997 - val_accuracy: 0.9220 - val_loss: 0.2609\n",
            "Epoch 18/25\n",
            "\u001b[1m192/192\u001b[0m \u001b[32m━━━━━━━━━━━━━━━━━━━━\u001b[0m\u001b[37m\u001b[0m \u001b[1m1637s\u001b[0m 8s/step - accuracy: 0.8064 - loss: 0.4900 - val_accuracy: 0.8757 - val_loss: 0.3030\n",
            "Epoch 19/25\n",
            "\u001b[1m192/192\u001b[0m \u001b[32m━━━━━━━━━━━━━━━━━━━━\u001b[0m\u001b[37m\u001b[0m \u001b[1m1643s\u001b[0m 8s/step - accuracy: 0.8166 - loss: 0.5068 - val_accuracy: 0.9306 - val_loss: 0.2199\n",
            "Epoch 20/25\n",
            "\u001b[1m192/192\u001b[0m \u001b[32m━━━━━━━━━━━━━━━━━━━━\u001b[0m\u001b[37m\u001b[0m \u001b[1m1630s\u001b[0m 8s/step - accuracy: 0.8210 - loss: 0.4899 - val_accuracy: 0.9393 - val_loss: 0.2096\n",
            "Epoch 21/25\n",
            "\u001b[1m192/192\u001b[0m \u001b[32m━━━━━━━━━━━━━━━━━━━━\u001b[0m\u001b[37m\u001b[0m \u001b[1m1640s\u001b[0m 8s/step - accuracy: 0.8245 - loss: 0.4611 - val_accuracy: 0.9220 - val_loss: 0.2309\n",
            "Epoch 22/25\n",
            "\u001b[1m192/192\u001b[0m \u001b[32m━━━━━━━━━━━━━━━━━━━━\u001b[0m\u001b[37m\u001b[0m \u001b[1m1633s\u001b[0m 8s/step - accuracy: 0.8319 - loss: 0.4604 - val_accuracy: 0.9046 - val_loss: 0.2791\n",
            "Epoch 23/25\n",
            "\u001b[1m192/192\u001b[0m \u001b[32m━━━━━━━━━━━━━━━━━━━━\u001b[0m\u001b[37m\u001b[0m \u001b[1m1646s\u001b[0m 8s/step - accuracy: 0.8161 - loss: 0.4828 - val_accuracy: 0.9220 - val_loss: 0.2536\n",
            "Epoch 24/25\n",
            "\u001b[1m192/192\u001b[0m \u001b[32m━━━━━━━━━━━━━━━━━━━━\u001b[0m\u001b[37m\u001b[0m \u001b[1m1633s\u001b[0m 8s/step - accuracy: 0.8338 - loss: 0.4520 - val_accuracy: 0.9075 - val_loss: 0.2220\n",
            "Epoch 25/25\n",
            "\u001b[1m192/192\u001b[0m \u001b[32m━━━━━━━━━━━━━━━━━━━━\u001b[0m\u001b[37m\u001b[0m \u001b[1m1633s\u001b[0m 8s/step - accuracy: 0.8295 - loss: 0.4359 - val_accuracy: 0.8931 - val_loss: 0.2722\n"
          ]
        },
        {
          "output_type": "execute_result",
          "data": {
            "text/plain": [
              "<keras.src.callbacks.history.History at 0x7f874ac062c0>"
            ]
          },
          "metadata": {},
          "execution_count": 12
        }
      ],
      "source": [
        "model.fit(\n",
        "    train_generator,\n",
        "    validation_data=validation_generator,\n",
        "    epochs=25\n",
        ")"
      ]
    },
    {
      "cell_type": "code",
      "execution_count": null,
      "metadata": {
        "id": "ysVbj0BLUg4b"
      },
      "outputs": [],
      "source": [
        "\n"
      ]
    },
    {
      "cell_type": "code",
      "execution_count": null,
      "metadata": {
        "id": "kl0QQ6XYUjtM"
      },
      "outputs": [],
      "source": []
    },
    {
      "cell_type": "code",
      "execution_count": null,
      "metadata": {
        "id": "DhfxhkpWVA1d"
      },
      "outputs": [],
      "source": []
    },
    {
      "cell_type": "code",
      "execution_count": null,
      "metadata": {
        "id": "tk6guzijVKjs"
      },
      "outputs": [],
      "source": []
    }
  ],
  "metadata": {
    "colab": {
      "provenance": [],
      "include_colab_link": true
    },
    "kernelspec": {
      "display_name": "Python 3",
      "name": "python3"
    },
    "language_info": {
      "name": "python"
    }
  },
  "nbformat": 4,
  "nbformat_minor": 0
}