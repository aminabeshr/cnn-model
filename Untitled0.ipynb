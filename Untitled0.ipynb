{
  "nbformat": 4,
  "nbformat_minor": 0,
  "metadata": {
    "colab": {
      "provenance": [],
      "authorship_tag": "ABX9TyM0hfMYKUu6Y0nPovj3OCnf",
      "include_colab_link": true
    },
    "kernelspec": {
      "name": "python3",
      "display_name": "Python 3"
    },
    "language_info": {
      "name": "python"
    }
  },
  "cells": [
    {
      "cell_type": "markdown",
      "metadata": {
        "id": "view-in-github",
        "colab_type": "text"
      },
      "source": [
        "<a href=\"https://colab.research.google.com/github/aminabeshr/cnn-model/blob/main/Untitled0.ipynb\" target=\"_parent\"><img src=\"https://colab.research.google.com/assets/colab-badge.svg\" alt=\"Open In Colab\"/></a>"
      ]
    },
    {
      "cell_type": "code",
      "execution_count": 2,
      "metadata": {
        "id": "ZC8wXt6x4CmZ"
      },
      "outputs": [],
      "source": [
        "import tensorflow as tf\n",
        "import numpy as np\n",
        "import cv2\n",
        "from tensorflow.keras.applications import EfficientNetB0\n",
        "from tensorflow.keras.layers import Dense, GlobalAveragePooling2D, Dropout\n",
        "from tensorflow.keras.models import Model\n",
        "from tensorflow.keras.utils import to_categorical\n"
      ]
    },
    {
      "cell_type": "code",
      "source": [
        "# 🔹 تحميل بيانات MNIST\n",
        "(x_train, y_train), (x_test, y_test) = tf.keras.datasets.mnist.load_data()"
      ],
      "metadata": {
        "id": "7Xg2DvrE4HHS"
      },
      "execution_count": 3,
      "outputs": []
    },
    {
      "cell_type": "code",
      "source": [
        "def preprocess_images(images):\n",
        "    images = np.array([cv2.resize(img, (64, 64)) for img in images])  # تصغير الحجم\n",
        "    images = np.expand_dims(images, -1)  # إضافة القناة الرمادية\n",
        "    images = np.repeat(images, 3, -1)  # تكرار القناة 3 مرات\n",
        "    return images.astype(\"float32\") / 255.0  # تطبيع القيم بين 0 و 1\n",
        "\n",
        "x_train, x_test = preprocess_images(x_train), preprocess_images(x_test)\n",
        "y_train, y_test = to_categorical(y_train, 10), to_categorical(y_test, 10)  #"
      ],
      "metadata": {
        "id": "FBc8XTcQ4Pgm"
      },
      "execution_count": 4,
      "outputs": []
    },
    {
      "cell_type": "code",
      "source": [
        "base_model = EfficientNetB0(weights='imagenet', include_top=False, input_shape=(64, 64, 3))\n",
        "base_model.trainable = False  # تجميد الطبقات"
      ],
      "metadata": {
        "id": "dfwEBI8f4tnm"
      },
      "execution_count": 5,
      "outputs": []
    },
    {
      "cell_type": "code",
      "source": [
        "# 🔹 إضافة الطبقات العلوية\n",
        "x = GlobalAveragePooling2D()(base_model.output)\n",
        "x = Dropout(0.3)(x)  # تقليل الـ Overfitting\n",
        "x = Dense(128, activation='relu')(x)\n",
        "output_layer = Dense(10, activation='softmax')(x)\n"
      ],
      "metadata": {
        "id": "Tp7zAafT4x1s"
      },
      "execution_count": 6,
      "outputs": []
    },
    {
      "cell_type": "code",
      "source": [
        "model = Model(inputs=base_model.input, outputs=output_layer)\n",
        "model.compile(optimizer=tf.keras.optimizers.Adam(0.0001), loss='categorical_crossentropy', metrics=['accuracy'])"
      ],
      "metadata": {
        "id": "bUfO8FqX41CF"
      },
      "execution_count": 7,
      "outputs": []
    },
    {
      "cell_type": "code",
      "source": [
        "batch_size = 16  # تقليل حجم الـ Batch لتقليل استهلاك الذاكرة\n",
        "train_dataset = tf.data.Dataset.from_tensor_slices((x_train, y_train)).shuffle(len(x_train)).batch(batch_size)\n",
        "test_dataset = tf.data.Dataset.from_tensor_slices((x_test, y_test)).batch(batch_size)"
      ],
      "metadata": {
        "id": "HPIUR58944NE"
      },
      "execution_count": 8,
      "outputs": []
    },
    {
      "cell_type": "code",
      "source": [
        "model.fit(train_dataset, validation_data=test_dataset, epochs=5)"
      ],
      "metadata": {
        "colab": {
          "base_uri": "https://localhost:8080/"
        },
        "id": "4Ig57Miw48sF",
        "outputId": "cf03c7b6-6f62-4326-b49f-633fda8b30aa"
      },
      "execution_count": 9,
      "outputs": [
        {
          "output_type": "stream",
          "name": "stdout",
          "text": [
            "Epoch 1/5\n",
            "\u001b[1m3750/3750\u001b[0m \u001b[32m━━━━━━━━━━━━━━━━━━━━\u001b[0m\u001b[37m\u001b[0m \u001b[1m251s\u001b[0m 64ms/step - accuracy: 0.1061 - loss: 2.3140 - val_accuracy: 0.1079 - val_loss: 2.2968\n",
            "Epoch 2/5\n",
            "\u001b[1m3750/3750\u001b[0m \u001b[32m━━━━━━━━━━━━━━━━━━━━\u001b[0m\u001b[37m\u001b[0m \u001b[1m247s\u001b[0m 66ms/step - accuracy: 0.1183 - loss: 2.2995 - val_accuracy: 0.1317 - val_loss: 2.2934\n",
            "Epoch 3/5\n",
            "\u001b[1m3750/3750\u001b[0m \u001b[32m━━━━━━━━━━━━━━━━━━━━\u001b[0m\u001b[37m\u001b[0m \u001b[1m248s\u001b[0m 66ms/step - accuracy: 0.1287 - loss: 2.2934 - val_accuracy: 0.2094 - val_loss: 2.2819\n",
            "Epoch 4/5\n",
            "\u001b[1m3750/3750\u001b[0m \u001b[32m━━━━━━━━━━━━━━━━━━━━\u001b[0m\u001b[37m\u001b[0m \u001b[1m261s\u001b[0m 66ms/step - accuracy: 0.1392 - loss: 2.2866 - val_accuracy: 0.1135 - val_loss: 2.2763\n",
            "Epoch 5/5\n",
            "\u001b[1m3750/3750\u001b[0m \u001b[32m━━━━━━━━━━━━━━━━━━━━\u001b[0m\u001b[37m\u001b[0m \u001b[1m257s\u001b[0m 69ms/step - accuracy: 0.1447 - loss: 2.2804 - val_accuracy: 0.1957 - val_loss: 2.2650\n"
          ]
        },
        {
          "output_type": "execute_result",
          "data": {
            "text/plain": [
              "<keras.src.callbacks.history.History at 0x7c395180e510>"
            ]
          },
          "metadata": {},
          "execution_count": 9
        }
      ]
    }
  ]
}